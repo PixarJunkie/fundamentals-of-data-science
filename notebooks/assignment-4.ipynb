{
 "cells": [
  {
   "cell_type": "markdown",
   "metadata": {},
   "source": [
    "# Assignment 4"
   ]
  },
  {
   "cell_type": "code",
   "execution_count": 1,
   "metadata": {
    "collapsed": true
   },
   "outputs": [],
   "source": [
    "#Import packages\n",
    "import pandas as pd\n",
    "import numpy as np\n",
    "import os\n",
    "from sklearn.tree import DecisionTreeClassifier\n",
    "from sklearn.cross_validation import train_test_split\n",
    "from sklearn.metrics import accuracy_score"
   ]
  },
  {
   "cell_type": "markdown",
   "metadata": {},
   "source": [
    "#### Problem 1 (20 Points):\n",
    "\n",
    "Problem 1 (20 points): Download the letter recognition data from: http://archive.ics.uci.edu/ml/datasets/Letter+Recognition  The objective is to identify each of a large number of black-and-white rectangular pixel displays as one of the 26 capital letters in the English alphabet. The character images were based on 20 different fonts and each letter within these 20 fonts was randomly distorted to produce a file of 20,000 unique stimuli. Each stimulus was converted into 16 primitive numerical attributes (statistical moments and edge counts) which were then scaled to fit into a range of integer values from 0 through 15. Below is the attribute information, but more information on the data and how it was used for data mining research can be found in the paper:  \n",
    "P. W. Frey and D. J. Slate. \"Letter Recognition Using Holland-style Adaptive Classifiers\". (Machine Learning Vol 6 #2 March 91)  \n",
    "Attribute Information:  \n",
    "1. lettr capital letter (26 values from A to Z)  \n",
    "2. x-box horizontal position of box (integer)  \n",
    "3. y-box vertical position of box (integer)  \n",
    "4. width width of box (integer)  \n",
    "5. high height of box (integer)  \n",
    "6. onpix total # on pixels (integer)  \n",
    "7. x-bar mean x of on pixels in box (integer)  \n",
    "8. y-bar mean y of on pixels in box (integer)  \n",
    "9. x2bar mean x variance (integer)  \n",
    "10. y2bar mean y variance (integer)   \n",
    "11. xybar mean x y correlation (integer)  \n",
    "12. x2ybr mean of x * x * y (integer)  \n",
    "13. xy2br mean of x * y * y (integer)  \n",
    "14. x-ege mean edge count left to right (integer)  \n",
    "15. xegvy correlation of x-ege with y (integer)  \n",
    "16. y-ege mean edge count bottom to top (integer)  \n",
    "17. yegvx correlation of y-ege with x (integer)\n",
    "\n",
    "Create a classification model for letter recognition using decision trees as a classification method with a holdout partitioning technique for splitting the data into training versus testing.\n",
    "\n",
    "a. Changing the values for the depth, number of cases per parent and number of cases per leaf produces different tree configurations with different accuracies for training and testing. Choose at least five different configurations and report the accuracy for training and testing for each one of them.  Which configuration will you choose as the best model? Explain your answer.  \n",
    "b. For the best tree configuration, report the misclassification matrix and interpret it.  In your opinion, is accuracy a good way to interpret the performance of the model?  If not, suggest other measures.  \n",
    "c. What are the most important three attributes for recognizing the letters?"
   ]
  },
  {
   "cell_type": "markdown",
   "metadata": {},
   "source": [
    "##### Problem 1-a"
   ]
  },
  {
   "cell_type": "code",
   "execution_count": null,
   "metadata": {
    "collapsed": true
   },
   "outputs": [],
   "source": [
    "#Import data\n",
    "data_url = 'https://github.com/PixarJunkie/fundamentals-of-data-science/raw/master/data/sledata.txt'\n",
    "_df = pd.read_table(sled_url, header = None, sep = \" \")\n",
    "sled_df.rename(columns = {11: 'label'}, inplace = True)\n",
    "sled_df.head()"
   ]
  }
 ],
 "metadata": {
  "anaconda-cloud": {},
  "kernelspec": {
   "display_name": "Python [default]",
   "language": "python",
   "name": "python3"
  },
  "language_info": {
   "codemirror_mode": {
    "name": "ipython",
    "version": 3
   },
   "file_extension": ".py",
   "mimetype": "text/x-python",
   "name": "python",
   "nbconvert_exporter": "python",
   "pygments_lexer": "ipython3",
   "version": "3.5.2"
  }
 },
 "nbformat": 4,
 "nbformat_minor": 1
}
