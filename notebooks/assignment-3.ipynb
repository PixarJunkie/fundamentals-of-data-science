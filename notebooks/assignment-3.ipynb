{
 "cells": [
  {
   "cell_type": "code",
   "execution_count": 143,
   "metadata": {
    "collapsed": false
   },
   "outputs": [],
   "source": [
    "#Import packages\n",
    "import pandas as pd\n",
    "import numpy as np\n",
    "import matplotlib\n",
    "import os\n",
    "import graphviz\n",
    "import pydot\n",
    "import seaborn as sns\n",
    "from sklearn import tree\n",
    "from graphviz import Source\n",
    "from matplotlib import pyplot as plt\n",
    "from subprocess import call\n",
    "from sklearn.tree import DecisionTreeClassifier, export_graphviz\n",
    "from sklearn.cross_validation import train_test_split\n",
    "from sklearn.metrics import accuracy_score\n",
    "from sklearn import grid_search\n",
    "%matplotlib inline"
   ]
  },
  {
   "cell_type": "markdown",
   "metadata": {},
   "source": [
    "#### Problem 1 (20 points): \n",
    "\n",
    "This problem illustrates the classification approach by using decision trees and the Lupus\n",
    "data (download the data file “sledata” from D2L). The data consists of 300 patient records. Each record contains 12\n",
    "elements. The first 11 elements stand for different symptoms and the final element of each record indicates the\n",
    "diagnosis. Build a decision tree and answer these questions.\n",
    "\n",
    "\n",
    "1) Build the best decision tree you can and explain what makes it the best. Show what criteria you used\n",
    "including the number of cases allowed in parents and children and the depth and stopping condition.  \n",
    "2) How many nodes does the final tree have and how many of them are terminal nodes?  \n",
    "3) What are the most important three Lupus data features in building the tree? Explain your answer.  \n",
    "4) Increase the parameters that let you set the number of cases allowed in parent and child nodes.   What do you notice with the complexity (number of nodes) of the tree? Does it increase? Explain your answer.  "
   ]
  },
  {
   "cell_type": "code",
   "execution_count": 3,
   "metadata": {
    "collapsed": false
   },
   "outputs": [
    {
     "data": {
      "text/html": [
       "<div>\n",
       "<table border=\"1\" class=\"dataframe\">\n",
       "  <thead>\n",
       "    <tr style=\"text-align: right;\">\n",
       "      <th></th>\n",
       "      <th>0</th>\n",
       "      <th>1</th>\n",
       "      <th>2</th>\n",
       "      <th>3</th>\n",
       "      <th>4</th>\n",
       "      <th>5</th>\n",
       "      <th>6</th>\n",
       "      <th>7</th>\n",
       "      <th>8</th>\n",
       "      <th>9</th>\n",
       "      <th>10</th>\n",
       "      <th>label</th>\n",
       "    </tr>\n",
       "  </thead>\n",
       "  <tbody>\n",
       "    <tr>\n",
       "      <th>0</th>\n",
       "      <td>0</td>\n",
       "      <td>0</td>\n",
       "      <td>0</td>\n",
       "      <td>0</td>\n",
       "      <td>0</td>\n",
       "      <td>0</td>\n",
       "      <td>0</td>\n",
       "      <td>0</td>\n",
       "      <td>0</td>\n",
       "      <td>0</td>\n",
       "      <td>0</td>\n",
       "      <td>1</td>\n",
       "    </tr>\n",
       "    <tr>\n",
       "      <th>1</th>\n",
       "      <td>0</td>\n",
       "      <td>0</td>\n",
       "      <td>0</td>\n",
       "      <td>0</td>\n",
       "      <td>1</td>\n",
       "      <td>0</td>\n",
       "      <td>0</td>\n",
       "      <td>0</td>\n",
       "      <td>0</td>\n",
       "      <td>0</td>\n",
       "      <td>1</td>\n",
       "      <td>1</td>\n",
       "    </tr>\n",
       "    <tr>\n",
       "      <th>2</th>\n",
       "      <td>0</td>\n",
       "      <td>0</td>\n",
       "      <td>0</td>\n",
       "      <td>0</td>\n",
       "      <td>1</td>\n",
       "      <td>0</td>\n",
       "      <td>0</td>\n",
       "      <td>0</td>\n",
       "      <td>0</td>\n",
       "      <td>0</td>\n",
       "      <td>0</td>\n",
       "      <td>1</td>\n",
       "    </tr>\n",
       "    <tr>\n",
       "      <th>3</th>\n",
       "      <td>0</td>\n",
       "      <td>0</td>\n",
       "      <td>0</td>\n",
       "      <td>1</td>\n",
       "      <td>0</td>\n",
       "      <td>0</td>\n",
       "      <td>0</td>\n",
       "      <td>0</td>\n",
       "      <td>0</td>\n",
       "      <td>0</td>\n",
       "      <td>0</td>\n",
       "      <td>1</td>\n",
       "    </tr>\n",
       "    <tr>\n",
       "      <th>4</th>\n",
       "      <td>0</td>\n",
       "      <td>0</td>\n",
       "      <td>0</td>\n",
       "      <td>0</td>\n",
       "      <td>1</td>\n",
       "      <td>0</td>\n",
       "      <td>0</td>\n",
       "      <td>0</td>\n",
       "      <td>1</td>\n",
       "      <td>0</td>\n",
       "      <td>1</td>\n",
       "      <td>1</td>\n",
       "    </tr>\n",
       "  </tbody>\n",
       "</table>\n",
       "</div>"
      ],
      "text/plain": [
       "   0  1  2  3  4  5  6  7  8  9  10  label\n",
       "0  0  0  0  0  0  0  0  0  0  0   0      1\n",
       "1  0  0  0  0  1  0  0  0  0  0   1      1\n",
       "2  0  0  0  0  1  0  0  0  0  0   0      1\n",
       "3  0  0  0  1  0  0  0  0  0  0   0      1\n",
       "4  0  0  0  0  1  0  0  0  1  0   1      1"
      ]
     },
     "execution_count": 3,
     "metadata": {},
     "output_type": "execute_result"
    }
   ],
   "source": [
    "#Import data\n",
    "sled_url = 'https://github.com/PixarJunkie/fundamentals-of-data-science/raw/master/data/sledata.txt'\n",
    "sled_df = pd.read_table(sled_url, header = None, sep = \" \")\n",
    "sled_df.rename(columns = {11: 'label'}, inplace = True)\n",
    "sled_df.head()"
   ]
  },
  {
   "cell_type": "markdown",
   "metadata": {},
   "source": [
    "##### Problem 1-1"
   ]
  },
  {
   "cell_type": "code",
   "execution_count": 131,
   "metadata": {
    "collapsed": false
   },
   "outputs": [
    {
     "name": "stdout",
     "output_type": "stream",
     "text": [
      "X_train size: (210, 11)\n",
      "X_test size: (90, 11)\n",
      "y_train size: (210, 1)\n",
      "y_test size: (90, 1)\n",
      "Best Score: 0.909523809524\n",
      "Params: {'max_depth': 3}\n",
      "Accruacy 0.933333333333\n"
     ]
    }
   ],
   "source": [
    "#Features and labels\n",
    "X = sled_df.loc[:, sled_df.columns != 'label']\n",
    "y = sled_df.loc[:, sled_df.columns == 'label']\n",
    "\n",
    "#Train test split\n",
    "\n",
    "X_train, X_test, y_train, y_test = train_test_split(X, y, test_size = 0.3, random_state = 111)\n",
    "\n",
    "print('X_train size: ' + str(X_train.shape))\n",
    "print('X_test size: ' + str(X_test.shape))\n",
    "print('y_train size: ' + str(y_train.shape))\n",
    "print('y_test size: ' + str(y_test.shape))\n",
    "\n",
    "#Decision Tree\n",
    "\n",
    "labels = y_train.label\n",
    "feature_lst = list(X_train.columns)\n",
    "\n",
    "dt = DecisionTreeClassifier(criterion = 'gini', random_state = 23)\n",
    "dt = dt.fit(X_train, y_train)\n",
    "\n",
    "params = {'max_depth': list(range(1, 10))}\n",
    "clf = grid_search.GridSearchCV(DecisionTreeClassifier(criterion = 'gini', splitter = 'best', max_depth = None), param_grid = params, n_jobs = 4)\n",
    "clf = clf.fit(X = X_train, y = labels)\n",
    "\n",
    "predictions = clf.predict(X_test)\n",
    "\n",
    "print('Best Score: ' + str(clf.best_score_))\n",
    "print('Params: ' + str(clf.best_params_))\n",
    "print('Accruacy ' + str(accuracy_score(y_test, predictions)))"
   ]
  },
  {
   "cell_type": "markdown",
   "metadata": {},
   "source": [
    "##### Problem 1-2\n",
    "\n",
    "There are 15 nodes"
   ]
  },
  {
   "cell_type": "code",
   "execution_count": 138,
   "metadata": {
    "collapsed": false
   },
   "outputs": [
    {
     "data": {
      "text/plain": [
       "1"
      ]
     },
     "execution_count": 138,
     "metadata": {},
     "output_type": "execute_result"
    }
   ],
   "source": [
    "#Create .dot file\n",
    "export_graphviz(clf.best_estimator_, out_file = 'tree_dot.dot', feature_names = feature_lst)\n",
    "\n",
    "# os.system('dot -Tpng tree_dot.dot -o tree_dot.png')\n",
    "\n",
    "#Running into some errors creating getting the graph for the .dot file, but the above output a word file that shows 15 nodes. Added the github data"
   ]
  },
  {
   "cell_type": "markdown",
   "metadata": {},
   "source": [
    "##### Problem 1-3\n",
    "\n",
    "The top three features are 9, 10, and 8"
   ]
  },
  {
   "cell_type": "code",
   "execution_count": 119,
   "metadata": {
    "collapsed": false
   },
   "outputs": [
    {
     "name": "stdout",
     "output_type": "stream",
     "text": [
      "0 0.02625\n",
      "1 0.0\n",
      "2 0.0397352047117\n",
      "3 0.0182330659537\n",
      "4 0.0417187219492\n",
      "5 0.0\n",
      "6 0.00477272727273\n",
      "7 0.0180161726988\n",
      "8 0.0775756926036\n",
      "9 0.657613966222\n",
      "10 0.116084448588\n"
     ]
    }
   ],
   "source": [
    "#Feature importance d\n",
    "for name, importance in zip(X_train.columns, clf.best_estimator_.feature_importances_):\n",
    "    print(name, importance)"
   ]
  },
  {
   "cell_type": "markdown",
   "metadata": {},
   "source": [
    "##### Problem 1-4\n",
    "\n",
    "I increased the min_samples_split to 25 and kept the splitter at \"best\". The number of nodes didn't change in this case, though the accuracy did decrease slightly.  "
   ]
  },
  {
   "cell_type": "code",
   "execution_count": 148,
   "metadata": {
    "collapsed": false
   },
   "outputs": [
    {
     "name": "stdout",
     "output_type": "stream",
     "text": [
      "X_train size: (210, 11)\n",
      "X_test size: (90, 11)\n",
      "y_train size: (210, 1)\n",
      "y_test size: (90, 1)\n",
      "Best Score: 0.904761904762\n",
      "Params: {'max_depth': 1}\n",
      "Accruacy 0.911111111111\n"
     ]
    }
   ],
   "source": [
    "#Features and labels\n",
    "X = sled_df.loc[:, sled_df.columns != 'label']\n",
    "y = sled_df.loc[:, sled_df.columns == 'label']\n",
    "\n",
    "#Train test split\n",
    "\n",
    "X_train, X_test, y_train, y_test = train_test_split(X, y, test_size = 0.3, random_state = 111)\n",
    "\n",
    "print('X_train size: ' + str(X_train.shape))\n",
    "print('X_test size: ' + str(X_test.shape))\n",
    "print('y_train size: ' + str(y_train.shape))\n",
    "print('y_test size: ' + str(y_test.shape))\n",
    "\n",
    "#Decision Tree\n",
    "\n",
    "labels = y_train.label\n",
    "feature_lst = list(X_train.columns)\n",
    "\n",
    "dt = DecisionTreeClassifier(criterion = 'gini', random_state = 23)\n",
    "dt = dt.fit(X_train, y_train)\n",
    "\n",
    "#Changed min_samples_split from 2 to 50\n",
    "params = {'max_depth': list(range(1, 10))}\n",
    "clf = grid_search.GridSearchCV(DecisionTreeClassifier(criterion = 'gini', splitter = 'best', max_depth = None, min_samples_split = 50), param_grid = params, n_jobs = 4)\n",
    "clf = clf.fit(X = X_train, y = labels)\n",
    "\n",
    "predictions = clf.predict(X_test)\n",
    "\n",
    "print('Best Score: ' + str(clf.best_score_))\n",
    "print('Params: ' + str(clf.best_params_))\n",
    "print('Accruacy ' + str(accuracy_score(y_test, predictions)))"
   ]
  },
  {
   "cell_type": "markdown",
   "metadata": {},
   "source": [
    "#### Problem 2 (30 points): \n",
    "\n",
    "This problem illustrates the effect of the class imbalance of the accuracy of the decision\n",
    "trees. Download the red wine quality data from the UCI machine learning repository at:\n",
    "http://archive.ics.uci.edu/ml/datasets/Wine+Quality\n",
    "(for a reminder of how to get this kind of data ready for SPSS, see Assignment 1)\n",
    "\n",
    "1. Consider each quality level of wine to be a different class. Report how many classes there are and what is\n",
    "the distribution of these classes for the red wine data (how many cases of each class are there).\n",
    "\n",
    "2. Repeat Problem 1 on the red wine data.\n",
    "\n",
    "3. Now bin the class variable in such a way that data is not so imbalanced with respect to the class variable.\n",
    "Repeat Problem 1 but on the data you have processed with this smoothing.\n",
    "\n",
    "4. How does the performance of the best classification model on the original class variable compare with the\n",
    "accuracy of the best classification model on the binned classification variable?\n",
    "\n",
    "5. Do you have any other ideas on how you can improve the results further?\n",
    "Showing that your idea will actually work will be graded with five extra credit points.\n"
   ]
  },
  {
   "cell_type": "code",
   "execution_count": 234,
   "metadata": {
    "collapsed": true
   },
   "outputs": [],
   "source": [
    "white_url = 'https://raw.github.com/PixarJunkie/fundamentals-of-data-science/master/data/winequality-white.csv'\n",
    "red_url = 'https://raw.github.com/PixarJunkie/fundamentals-of-data-science/master/data/winequality-red.csv'\n",
    "\n",
    "white_df = pd.read_csv(white_url, sep = ';')\n",
    "red_df = pd.read_csv(red_url, sep = ';')"
   ]
  },
  {
   "cell_type": "markdown",
   "metadata": {},
   "source": [
    "##### Problem 2-1\n",
    "\n",
    "There are 7 classes of quality in white_df.quality"
   ]
  },
  {
   "cell_type": "code",
   "execution_count": 174,
   "metadata": {
    "collapsed": false,
    "scrolled": true
   },
   "outputs": [
    {
     "name": "stdout",
     "output_type": "stream",
     "text": [
      "6    2198\n",
      "5    1457\n",
      "7     880\n",
      "8     175\n",
      "4     163\n",
      "3      20\n",
      "9       5\n",
      "Name: quality, dtype: int64\n"
     ]
    },
    {
     "data": {
      "image/png": "[encoded data removed]",
      "text/plain": [
       "<matplotlib.figure.Figure at 0x241c8e93128>"
      ]
     },
     "metadata": {},
     "output_type": "display_data"
    }
   ],
   "source": [
    "#white_df histogram\n",
    "plt.hist(white_df.quality)\n",
    "print(white_df.quality.value_counts())"
   ]
  },
  {
   "cell_type": "markdown",
   "metadata": {},
   "source": [
    "##### Problem 2-2\n",
    "\n",
    "There are 6 classes of quality in red_df.quality"
   ]
  },
  {
   "cell_type": "code",
   "execution_count": 173,
   "metadata": {
    "collapsed": false
   },
   "outputs": [
    {
     "name": "stdout",
     "output_type": "stream",
     "text": [
      "5    681\n",
      "6    638\n",
      "7    199\n",
      "4     53\n",
      "8     18\n",
      "3     10\n",
      "Name: quality, dtype: int64\n"
     ]
    },
    {
     "data": {
      "image/png": "[encoded data removed]",
      "text/plain": [
       "<matplotlib.figure.Figure at 0x241c9080f60>"
      ]
     },
     "metadata": {},
     "output_type": "display_data"
    }
   ],
   "source": [
    "#red_df histogram\n",
    "plt.hist(red_df.quality)\n",
    "print(red_df.quality.value_counts())"
   ]
  },
  {
   "cell_type": "markdown",
   "metadata": {},
   "source": [
    "##### Problem 2-3"
   ]
  },
  {
   "cell_type": "code",
   "execution_count": 235,
   "metadata": {
    "collapsed": false
   },
   "outputs": [],
   "source": [
    "#Rebinning\n",
    "\n",
    "#White_df\n",
    "low = [3, 4, 7, 8, 9]\n",
    "medium = [5]\n",
    "high = [6]\n",
    "\n",
    "white_df_smooth = white_df\n",
    "\n",
    "white_df_smooth.loc[white_df_smooth.quality.isin(low), 'quality_category'] = 1 \n",
    "white_df_smooth.loc[white_df_smooth.quality.isin(medium), 'quality_category'] = 2\n",
    "white_df_smooth.loc[white_df_smooth.quality.isin(high), 'quality_category'] = 3\n",
    "\n",
    "#red_df\n",
    "low = [3, 4, 7, 8]\n",
    "medium = [5]\n",
    "high = [6]\n",
    "\n",
    "red_df_smooth = red_df\n",
    "\n",
    "red_df_smooth.loc[red_df_smooth.quality.isin(low), 'quality_category'] = 1 \n",
    "red_df_smooth.loc[red_df_smooth.quality.isin(medium), 'quality_category'] = 2\n",
    "red_df_smooth.loc[red_df_smooth.quality.isin(high), 'quality_category'] = 3"
   ]
  },
  {
   "cell_type": "code",
   "execution_count": 198,
   "metadata": {
    "collapsed": false
   },
   "outputs": [
    {
     "name": "stdout",
     "output_type": "stream",
     "text": [
      "3    2198\n",
      "2    1457\n",
      "1    1243\n",
      "Name: quality_category, dtype: int64\n"
     ]
    },
    {
     "data": {
      "image/png": "[encoded data removed]",
      "text/plain": [
       "<matplotlib.figure.Figure at 0x241c8cce7b8>"
      ]
     },
     "metadata": {},
     "output_type": "display_data"
    }
   ],
   "source": [
    "#white_df_smooth histogram\n",
    "plt.hist(white_df_smooth.quality_category)\n",
    "print(white_df_smooth.quality_category.value_counts())"
   ]
  },
  {
   "cell_type": "code",
   "execution_count": 201,
   "metadata": {
    "collapsed": false
   },
   "outputs": [
    {
     "name": "stdout",
     "output_type": "stream",
     "text": [
      "2.0    681\n",
      "3.0    638\n",
      "1.0    280\n",
      "Name: quality_category, dtype: int64\n"
     ]
    },
    {
     "data": {
      "image/png": "[encoded data removed]",
      "text/plain": [
       "<matplotlib.figure.Figure at 0x241c8bcd3c8>"
      ]
     },
     "metadata": {},
     "output_type": "display_data"
    }
   ],
   "source": [
    "#red_df_smooth histogram\n",
    "plt.hist(red_df_smooth.quality_category)\n",
    "print(red_df_smooth.quality_category.value_counts())"
   ]
  },
  {
   "cell_type": "markdown",
   "metadata": {},
   "source": [
    "##### Problem 2-4"
   ]
  },
  {
   "cell_type": "code",
   "execution_count": 236,
   "metadata": {
    "collapsed": false,
    "scrolled": false
   },
   "outputs": [
    {
     "name": "stdout",
     "output_type": "stream",
     "text": [
      "X_train size: (1119, 12)\n",
      "X_test size: (480, 12)\n",
      "y_train size: (1119, 1)\n",
      "y_test size: (480, 1)\n",
      "Best Score: 0.960679177837\n",
      "Params: {'max_depth': 3}\n",
      "Accruacy 0.95625\n"
     ]
    }
   ],
   "source": [
    "#Red wine model (pre-rebinning)\n",
    "\n",
    "#Features and labels\n",
    "X = red_df.loc[:, red_df.columns != 'quality']\n",
    "y = red_df.loc[:, red_df.columns == 'quality']\n",
    "\n",
    "#Train test split\n",
    "\n",
    "X_train, X_test, y_train, y_test = train_test_split(X, y, test_size = 0.3, random_state = 111)\n",
    "\n",
    "print('X_train size: ' + str(X_train.shape))\n",
    "print('X_test size: ' + str(X_test.shape))\n",
    "print('y_train size: ' + str(y_train.shape))\n",
    "print('y_test size: ' + str(y_test.shape))\n",
    "\n",
    "#Decision Tree\n",
    "\n",
    "labels = y_train.quality\n",
    "feature_lst = list(X_train.columns)\n",
    "\n",
    "dt = DecisionTreeClassifier(criterion = 'gini', random_state = 23)\n",
    "dt = dt.fit(X_train, y_train)\n",
    "\n",
    "#Changed min_samples_split from 2 to 50\n",
    "params = {'max_depth': list(range(1, 45))}\n",
    "clf = grid_search.GridSearchCV(DecisionTreeClassifier(criterion = 'gini', splitter = 'best', max_depth = None), param_grid = params, n_jobs = 4)\n",
    "clf = clf.fit(X = X_train, y = labels)\n",
    "\n",
    "predictions = clf.predict(X_test)\n",
    "\n",
    "print('Best Score: ' + str(clf.best_score_))\n",
    "print('Params: ' + str(clf.best_params_))\n",
    "print('Accruacy ' + str(accuracy_score(y_test, predictions)))"
   ]
  },
  {
   "cell_type": "code",
   "execution_count": 237,
   "metadata": {
    "collapsed": false
   },
   "outputs": [
    {
     "name": "stdout",
     "output_type": "stream",
     "text": [
      "X_train size: (1119, 11)\n",
      "X_test size: (480, 11)\n",
      "y_train size: (1119, 1)\n",
      "y_test size: (480, 1)\n",
      "Best Score: 0.600536193029\n",
      "Params: {'max_depth': 13}\n",
      "Accruacy 0.608333333333\n"
     ]
    }
   ],
   "source": [
    "#Red wine model (post-rebinning)\n",
    "\n",
    "#Drop old label column\n",
    "red_df_smooth.drop('quality', axis = 1, inplace = True)\n",
    "\n",
    "#Features and labels\n",
    "X = red_df_smooth.loc[:, red_df_smooth.columns != 'quality_category']\n",
    "y = red_df_smooth.loc[:, red_df_smooth.columns == 'quality_category']\n",
    "\n",
    "#Train test split\n",
    "\n",
    "X_train, X_test, y_train, y_test = train_test_split(X, y, test_size = 0.3, random_state = 111)\n",
    "\n",
    "print('X_train size: ' + str(X_train.shape))\n",
    "print('X_test size: ' + str(X_test.shape))\n",
    "print('y_train size: ' + str(y_train.shape))\n",
    "print('y_test size: ' + str(y_test.shape))\n",
    "\n",
    "#Decision Tree\n",
    "\n",
    "labels = y_train.quality_category\n",
    "feature_lst = list(X_train.columns)\n",
    "\n",
    "dt = DecisionTreeClassifier(criterion = 'gini', random_state = 23)\n",
    "dt = dt.fit(X_train, y_train)\n",
    "\n",
    "#Changed min_samples_split from 2 to 50\n",
    "params = {'max_depth': list(range(1, 45))}\n",
    "clf = grid_search.GridSearchCV(DecisionTreeClassifier(criterion = 'gini', splitter = 'best', max_depth = None), param_grid = params, n_jobs = 4)\n",
    "clf = clf.fit(X = X_train, y = labels)\n",
    "\n",
    "predictions = clf.predict(X_test)\n",
    "\n",
    "print('Best Score: ' + str(clf.best_score_))\n",
    "print('Params: ' + str(clf.best_params_))\n",
    "print('Accruacy ' + str(accuracy_score(y_test, predictions)))"
   ]
  },
  {
   "cell_type": "code",
   "execution_count": 238,
   "metadata": {
    "collapsed": false
   },
   "outputs": [
    {
     "name": "stdout",
     "output_type": "stream",
     "text": [
      "X_train size: (3428, 12)\n",
      "X_test size: (1470, 12)\n",
      "y_train size: (3428, 1)\n",
      "y_test size: (1470, 1)\n",
      "Best Score: 0.936114352392\n",
      "Params: {'max_depth': 12}\n",
      "Accruacy 0.951020408163\n"
     ]
    }
   ],
   "source": [
    "#White wine model (pre-rebinning)\n",
    "\n",
    "#Features and labels\n",
    "X = white_df.loc[:, white_df.columns != 'quality']\n",
    "y = white_df.loc[:, white_df.columns == 'quality']\n",
    "\n",
    "#Train test split\n",
    "\n",
    "X_train, X_test, y_train, y_test = train_test_split(X, y, test_size = 0.3, random_state = 111)\n",
    "\n",
    "print('X_train size: ' + str(X_train.shape))\n",
    "print('X_test size: ' + str(X_test.shape))\n",
    "print('y_train size: ' + str(y_train.shape))\n",
    "print('y_test size: ' + str(y_test.shape))\n",
    "\n",
    "#Decision Tree\n",
    "\n",
    "labels = y_train.quality\n",
    "feature_lst = list(X_train.columns)\n",
    "\n",
    "dt = DecisionTreeClassifier(criterion = 'gini', random_state = 23)\n",
    "dt = dt.fit(X_train, y_train)\n",
    "\n",
    "#Changed min_samples_split from 2 to 50\n",
    "params = {'max_depth': list(range(1, 45))}\n",
    "clf = grid_search.GridSearchCV(DecisionTreeClassifier(criterion = 'gini', splitter = 'best', max_depth = None), param_grid = params, n_jobs = 4)\n",
    "clf = clf.fit(X = X_train, y = labels)\n",
    "\n",
    "predictions = clf.predict(X_test)\n",
    "\n",
    "print('Best Score: ' + str(clf.best_score_))\n",
    "print('Params: ' + str(clf.best_params_))\n",
    "print('Accruacy ' + str(accuracy_score(y_test, predictions)))"
   ]
  },
  {
   "cell_type": "code",
   "execution_count": 239,
   "metadata": {
    "collapsed": false
   },
   "outputs": [
    {
     "name": "stdout",
     "output_type": "stream",
     "text": [
      "X_train size: (3428, 12)\n",
      "X_test size: (1470, 12)\n",
      "y_train size: (3428, 1)\n",
      "y_test size: (1470, 1)\n",
      "Best Score: 1.0\n",
      "Params: {'max_depth': 2}\n",
      "Accruacy 1.0\n"
     ]
    }
   ],
   "source": [
    "#White wine model (post-rebinning)\n",
    "\n",
    "#Drop old label column\n",
    "# white_df_smooth.drop('quality', axis = 1, inplace = True)\n",
    "\n",
    "#Features and labels\n",
    "X = white_df_smooth.loc[:, white_df_smooth.columns != 'quality_category']\n",
    "y = white_df_smooth.loc[:, white_df_smooth.columns == 'quality_category']\n",
    "\n",
    "#Train test split\n",
    "\n",
    "X_train, X_test, y_train, y_test = train_test_split(X, y, test_size = 0.3, random_state = 111)\n",
    "\n",
    "print('X_train size: ' + str(X_train.shape))\n",
    "print('X_test size: ' + str(X_test.shape))\n",
    "print('y_train size: ' + str(y_train.shape))\n",
    "print('y_test size: ' + str(y_test.shape))\n",
    "\n",
    "#Decision Tree\n",
    "\n",
    "labels = y_train.quality_category\n",
    "feature_lst = list(X_train.columns)\n",
    "\n",
    "dt = DecisionTreeClassifier(criterion = 'gini', random_state = 23)\n",
    "dt = dt.fit(X_train, y_train)\n",
    "\n",
    "#Changed min_samples_split from 2 to 50\n",
    "params = {'max_depth': list(range(1, 45))}\n",
    "clf = grid_search.GridSearchCV(DecisionTreeClassifier(criterion = 'gini', splitter = 'best', max_depth = None), param_grid = params, n_jobs = 4)\n",
    "clf = clf.fit(X = X_train, y = labels)\n",
    "\n",
    "predictions = clf.predict(X_test)\n",
    "\n",
    "print('Best Score: ' + str(clf.best_score_))\n",
    "print('Params: ' + str(clf.best_params_))\n",
    "print('Accruacy ' + str(accuracy_score(y_test, predictions)))"
   ]
  },
  {
   "cell_type": "markdown",
   "metadata": {},
   "source": [
    "##### Problem 2-5\n",
    "\n",
    "An approach that I would consider taking in this case would be undersampling. In both cases, there were 2 quality levels that were in the vast majority thus creating the scew. Undersampling would compensate for that, and potentially increase model performance."
   ]
  },
  {
   "cell_type": "markdown",
   "metadata": {},
   "source": [
    "#### Problem 3 (5 points): \n",
    "\n",
    "Differentiate between the following terms:\n",
    "\n",
    "a. feature selection and feature extraction  \n",
    "Feature selection is selecting a subset of features from the starting set of features. Feature extraction is the constructing a set of features from the original set, which often involves transformations.\n",
    "\n",
    "b. training and testing data  \n",
    "Training data is data that is used to train a model, while testing data is data that is **held back** from the training data set to validate the model created from the training data.  \n",
    "\n",
    "c. parametric reduction techniques and non-parametric reduction techniques  \n",
    "Parametric reduction involves using distributions to model data, and summarize meaningful results via parameters of the distributions. Non-parametric reduction uses \"normal\" summary statistics and does not require a model. \n",
    "\n",
    "d. uniform binning and non-uniform binning  \n",
    "uniform binning methods are methods that bin on the same intervals/bin widths, while non-uniform binning methods can vary in intervals/bin widths. \n",
    "\n",
    "e. covariance matrix and correlation matrix  \n",
    "The covariance matrix measures the extent in which corresponding variables move in the same direction, and can have values from negative infinity to infinity. The correlation matrix on the other hand, is bound by -1 and 1; it is a measure that represents the degree to which two corresponding variables are related to one another. "
   ]
  },
  {
   "cell_type": "code",
   "execution_count": null,
   "metadata": {
    "collapsed": true
   },
   "outputs": [],
   "source": []
  }
 ],
 "metadata": {
  "anaconda-cloud": {},
  "kernelspec": {
   "display_name": "Python [default]",
   "language": "python",
   "name": "python3"
  },
  "language_info": {
   "codemirror_mode": {
    "name": "ipython",
    "version": 3
   },
   "file_extension": ".py",
   "mimetype": "text/x-python",
   "name": "python",
   "nbconvert_exporter": "python",
   "pygments_lexer": "ipython3",
   "version": "3.5.2"
  }
 },
 "nbformat": 4,
 "nbformat_minor": 1
}
