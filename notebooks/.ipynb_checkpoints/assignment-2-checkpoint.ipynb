{
 "cells": [
  {
   "cell_type": "markdown",
   "metadata": {},
   "source": [
    "# Assignment 2"
   ]
  },
  {
   "cell_type": "markdown",
   "metadata": {},
   "source": [
    "#### Problem 1 (15 points): \n",
    "\n",
    "This problem is an example of data preprocessing needed in a data mining process.\n",
    "Suppose that a hospital tested the age and body fat data for 18 randomly selected adults with the following\n",
    "results:\n",
    "\n",
    "| Age | 23 | 23 | 27 | 27 | 39 | 41 | 47 | 49 | 50 |\n",
    "| --- |: -- :|: -- :|: -- :|: -- :|: -- :|: -- :|: -- :|: -- :| -- :|\n",
    "| %fat | 9.5 | 26.5 | 7.8 | 17.8 | 31.4 | 25.9 | 27.4 | 27.2 | 31.2 |\n",
    "| Age | 52 | 54 | 54 | 56 | 57 | 58 | 58 | 60 | 61 |\n",
    "| %fat | 34.6 | 42.5 | 28.8 | 33.4 | 30.2 | 34.1 | 32.9 | 41.2 | 35.7 |\n",
    "\n",
    "\n",
    "a. (3 points) Draw the box-plots for age and % fat. Explain what you can tell from this visualization\n",
    "of the distribution of the data.\n",
    "\n",
    "b. (3 points) Normalize the two attributes based on z-score normalization. Include an image showing\n",
    "the data table with this done.\n",
    "\n",
    "c. (3 points) Regardless of the original ranges of the variables, normalization techniques transform the\n",
    "data into new ranges that allow to compare and use variables on the same scales. What are the value\n",
    "ranges of the following normalization methods applied to this data? Explain your answer by\n",
    "explaining how the methods work on data in general.\n",
    "\n",
    "i. Min-max normalization (use default target interval 0 to 1)\n",
    "\n",
    "ii. Z-score normalization\n",
    "\n",
    "iii. Normalization by decimal scaling.\n",
    "\n",
    "d. (3 points) Draw a scatter-plot based on the two variables and visually interpret the relationship\n",
    "between the two variables. \n",
    "\n",
    "e. (3 points) Correlation is useful when integrating or cleaning data to see if two variables are so\n",
    "strongly correlated that they should be checked to see if they duplicate information. Get the full\n",
    "covariance and correlation matrix giving the relationships between all pairs of variables, even\n",
    "though there are only two. Are these two variables positively or negatively correlated? \n"
   ]
  },
  {
   "cell_type": "code",
   "execution_count": 41,
   "metadata": {
    "collapsed": true
   },
   "outputs": [],
   "source": [
    "#Import packages\n",
    "import pandas as pd\n",
    "import numpy as np\n",
    "import matplotlib\n",
    "from matplotlib import pyplot as plt\n",
    "from sklearn.preprocessing import MinMaxScaler\n",
    "import seaborn as sns\n",
    "%matplotlib inline"
   ]
  },
  {
   "cell_type": "markdown",
   "metadata": {},
   "source": [
    "##### Problem 1-a"
   ]
  },
  {
   "cell_type": "code",
   "execution_count": 2,
   "metadata": {
    "collapsed": true
   },
   "outputs": [],
   "source": [
    "#Create dataframe\n",
    "df = pd.DataFrame({'age': [23, 23, 27, 27, 39, 41, 47, 49, 50, 52, 54, 54, 56, 57, 58, 58, 60, 61], 'perc_fat': [9.5, 26.5, 7.8, 17.8, 31.4, 25.9, 27.4, 27.2, 31.2, 34.6, 42.5, 28.8, 33.4, 30.2, 34.1, 32.9, 41.2, 35.7]})"
   ]
  },
  {
   "cell_type": "code",
   "execution_count": 14,
   "metadata": {
    "collapsed": false
   },
   "outputs": [
    {
     "data": {
      "text/plain": [
       "<matplotlib.axes._subplots.AxesSubplot at 0x219e6047630>"
      ]
     },
     "execution_count": 14,
     "metadata": {},
     "output_type": "execute_result"
    },
    {
     "data": {
      "image/png": "[encoded data removed]",
      "text/plain": [
       "<matplotlib.figure.Figure at 0x219e6063a90>"
      ]
     },
     "metadata": {},
     "output_type": "display_data"
    }
   ],
   "source": [
    "df.age.plot(kind = 'box', grid = False, whis = 'range')"
   ]
  },
  {
   "cell_type": "markdown",
   "metadata": {},
   "source": [
    "The age variable has a large spread, with a min of 23 and a max of 61. Here we see that more of the age data tends to be on the older side since the median is age 51. This is skewing the data. "
   ]
  },
  {
   "cell_type": "code",
   "execution_count": 15,
   "metadata": {
    "collapsed": false
   },
   "outputs": [
    {
     "data": {
      "text/plain": [
       "<matplotlib.axes._subplots.AxesSubplot at 0x219e60c9c50>"
      ]
     },
     "execution_count": 15,
     "metadata": {},
     "output_type": "execute_result"
    },
    {
     "data": {
      "image/png": "[encoded data removed]",
      "text/plain": [
       "<matplotlib.figure.Figure at 0x219e61156a0>"
      ]
     },
     "metadata": {},
     "output_type": "display_data"
    }
   ],
   "source": [
    "df.perc_fat.plot(kind = 'box', grid = False, whis = 'range')"
   ]
  },
  {
   "cell_type": "markdown",
   "metadata": {},
   "source": [
    "The percent body fat variable has a slightly smaller spread, though is almost just as skewed. The min is 7.8 while the max is 42.5. Q1-Q3 have a smaller range, which would suggest that data points around the min could be considered outliers. "
   ]
  },
  {
   "cell_type": "markdown",
   "metadata": {},
   "source": [
    "##### Problem 1-b"
   ]
  },
  {
   "cell_type": "code",
   "execution_count": 24,
   "metadata": {
    "collapsed": false
   },
   "outputs": [
    {
     "data": {
      "text/html": [
       "<div>\n",
       "<table border=\"1\" class=\"dataframe\">\n",
       "  <thead>\n",
       "    <tr style=\"text-align: right;\">\n",
       "      <th></th>\n",
       "      <th>z_norm</th>\n",
       "      <th>z_perc_fat</th>\n",
       "    </tr>\n",
       "  </thead>\n",
       "  <tbody>\n",
       "    <tr>\n",
       "      <th>0</th>\n",
       "      <td>-1.773592</td>\n",
       "      <td>-2.083695</td>\n",
       "    </tr>\n",
       "    <tr>\n",
       "      <th>1</th>\n",
       "      <td>-1.773592</td>\n",
       "      <td>-0.246730</td>\n",
       "    </tr>\n",
       "    <tr>\n",
       "      <th>2</th>\n",
       "      <td>-1.470989</td>\n",
       "      <td>-2.267391</td>\n",
       "    </tr>\n",
       "    <tr>\n",
       "      <th>3</th>\n",
       "      <td>-1.470989</td>\n",
       "      <td>-1.186824</td>\n",
       "    </tr>\n",
       "    <tr>\n",
       "      <th>4</th>\n",
       "      <td>-0.563178</td>\n",
       "      <td>0.282749</td>\n",
       "    </tr>\n",
       "    <tr>\n",
       "      <th>5</th>\n",
       "      <td>-0.411877</td>\n",
       "      <td>-0.311564</td>\n",
       "    </tr>\n",
       "    <tr>\n",
       "      <th>6</th>\n",
       "      <td>0.042028</td>\n",
       "      <td>-0.149479</td>\n",
       "    </tr>\n",
       "    <tr>\n",
       "      <th>7</th>\n",
       "      <td>0.193330</td>\n",
       "      <td>-0.171090</td>\n",
       "    </tr>\n",
       "    <tr>\n",
       "      <th>8</th>\n",
       "      <td>0.268981</td>\n",
       "      <td>0.261137</td>\n",
       "    </tr>\n",
       "    <tr>\n",
       "      <th>9</th>\n",
       "      <td>0.420282</td>\n",
       "      <td>0.628530</td>\n",
       "    </tr>\n",
       "    <tr>\n",
       "      <th>10</th>\n",
       "      <td>0.571584</td>\n",
       "      <td>1.482179</td>\n",
       "    </tr>\n",
       "    <tr>\n",
       "      <th>11</th>\n",
       "      <td>0.571584</td>\n",
       "      <td>0.001801</td>\n",
       "    </tr>\n",
       "    <tr>\n",
       "      <th>12</th>\n",
       "      <td>0.722886</td>\n",
       "      <td>0.498862</td>\n",
       "    </tr>\n",
       "    <tr>\n",
       "      <th>13</th>\n",
       "      <td>0.798537</td>\n",
       "      <td>0.153080</td>\n",
       "    </tr>\n",
       "    <tr>\n",
       "      <th>14</th>\n",
       "      <td>0.874187</td>\n",
       "      <td>0.574502</td>\n",
       "    </tr>\n",
       "    <tr>\n",
       "      <th>15</th>\n",
       "      <td>0.874187</td>\n",
       "      <td>0.444834</td>\n",
       "    </tr>\n",
       "    <tr>\n",
       "      <th>16</th>\n",
       "      <td>1.025489</td>\n",
       "      <td>1.341705</td>\n",
       "    </tr>\n",
       "    <tr>\n",
       "      <th>17</th>\n",
       "      <td>1.101140</td>\n",
       "      <td>0.747393</td>\n",
       "    </tr>\n",
       "  </tbody>\n",
       "</table>\n",
       "</div>"
      ],
      "text/plain": [
       "      z_norm  z_perc_fat\n",
       "0  -1.773592   -2.083695\n",
       "1  -1.773592   -0.246730\n",
       "2  -1.470989   -2.267391\n",
       "3  -1.470989   -1.186824\n",
       "4  -0.563178    0.282749\n",
       "5  -0.411877   -0.311564\n",
       "6   0.042028   -0.149479\n",
       "7   0.193330   -0.171090\n",
       "8   0.268981    0.261137\n",
       "9   0.420282    0.628530\n",
       "10  0.571584    1.482179\n",
       "11  0.571584    0.001801\n",
       "12  0.722886    0.498862\n",
       "13  0.798537    0.153080\n",
       "14  0.874187    0.574502\n",
       "15  0.874187    0.444834\n",
       "16  1.025489    1.341705\n",
       "17  1.101140    0.747393"
      ]
     },
     "execution_count": 24,
     "metadata": {},
     "output_type": "execute_result"
    }
   ],
   "source": [
    "#Compute z-score for each column\n",
    "norm = [((df['%s' %(col)] - df['%s' %(col)].mean())/df['%s' %(col)].std()) for col in df.columns]\n",
    "\n",
    "#Create dataframe, transpose, and rename columns \n",
    "z_norm_df = pd.DataFrame.from_records(norm)\n",
    "\n",
    "z_norm_df = z_norm_df.transpose()\n",
    "z_norm_df.rename(columns = {0: 'z_norm', 1: 'z_perc_fat'}, inplace = True)\n",
    "\n",
    "#Show df\n",
    "z_norm_df"
   ]
  },
  {
   "cell_type": "markdown",
   "metadata": {},
   "source": [
    "##### Problem 1-c"
   ]
  },
  {
   "cell_type": "code",
   "execution_count": 27,
   "metadata": {
    "collapsed": false
   },
   "outputs": [
    {
     "data": {
      "text/html": [
       "<div>\n",
       "<table border=\"1\" class=\"dataframe\">\n",
       "  <thead>\n",
       "    <tr style=\"text-align: right;\">\n",
       "      <th></th>\n",
       "      <th>age</th>\n",
       "      <th>perc_fat</th>\n",
       "    </tr>\n",
       "  </thead>\n",
       "  <tbody>\n",
       "    <tr>\n",
       "      <th>0</th>\n",
       "      <td>0.000000</td>\n",
       "      <td>0.048991</td>\n",
       "    </tr>\n",
       "    <tr>\n",
       "      <th>1</th>\n",
       "      <td>0.000000</td>\n",
       "      <td>0.538905</td>\n",
       "    </tr>\n",
       "    <tr>\n",
       "      <th>2</th>\n",
       "      <td>0.105263</td>\n",
       "      <td>0.000000</td>\n",
       "    </tr>\n",
       "    <tr>\n",
       "      <th>3</th>\n",
       "      <td>0.105263</td>\n",
       "      <td>0.288184</td>\n",
       "    </tr>\n",
       "    <tr>\n",
       "      <th>4</th>\n",
       "      <td>0.421053</td>\n",
       "      <td>0.680115</td>\n",
       "    </tr>\n",
       "    <tr>\n",
       "      <th>5</th>\n",
       "      <td>0.473684</td>\n",
       "      <td>0.521614</td>\n",
       "    </tr>\n",
       "    <tr>\n",
       "      <th>6</th>\n",
       "      <td>0.631579</td>\n",
       "      <td>0.564841</td>\n",
       "    </tr>\n",
       "    <tr>\n",
       "      <th>7</th>\n",
       "      <td>0.684211</td>\n",
       "      <td>0.559078</td>\n",
       "    </tr>\n",
       "    <tr>\n",
       "      <th>8</th>\n",
       "      <td>0.710526</td>\n",
       "      <td>0.674352</td>\n",
       "    </tr>\n",
       "    <tr>\n",
       "      <th>9</th>\n",
       "      <td>0.763158</td>\n",
       "      <td>0.772334</td>\n",
       "    </tr>\n",
       "    <tr>\n",
       "      <th>10</th>\n",
       "      <td>0.815789</td>\n",
       "      <td>1.000000</td>\n",
       "    </tr>\n",
       "    <tr>\n",
       "      <th>11</th>\n",
       "      <td>0.815789</td>\n",
       "      <td>0.605187</td>\n",
       "    </tr>\n",
       "    <tr>\n",
       "      <th>12</th>\n",
       "      <td>0.868421</td>\n",
       "      <td>0.737752</td>\n",
       "    </tr>\n",
       "    <tr>\n",
       "      <th>13</th>\n",
       "      <td>0.894737</td>\n",
       "      <td>0.645533</td>\n",
       "    </tr>\n",
       "    <tr>\n",
       "      <th>14</th>\n",
       "      <td>0.921053</td>\n",
       "      <td>0.757925</td>\n",
       "    </tr>\n",
       "    <tr>\n",
       "      <th>15</th>\n",
       "      <td>0.921053</td>\n",
       "      <td>0.723343</td>\n",
       "    </tr>\n",
       "    <tr>\n",
       "      <th>16</th>\n",
       "      <td>0.973684</td>\n",
       "      <td>0.962536</td>\n",
       "    </tr>\n",
       "    <tr>\n",
       "      <th>17</th>\n",
       "      <td>1.000000</td>\n",
       "      <td>0.804035</td>\n",
       "    </tr>\n",
       "  </tbody>\n",
       "</table>\n",
       "</div>"
      ],
      "text/plain": [
       "         age  perc_fat\n",
       "0   0.000000  0.048991\n",
       "1   0.000000  0.538905\n",
       "2   0.105263  0.000000\n",
       "3   0.105263  0.288184\n",
       "4   0.421053  0.680115\n",
       "5   0.473684  0.521614\n",
       "6   0.631579  0.564841\n",
       "7   0.684211  0.559078\n",
       "8   0.710526  0.674352\n",
       "9   0.763158  0.772334\n",
       "10  0.815789  1.000000\n",
       "11  0.815789  0.605187\n",
       "12  0.868421  0.737752\n",
       "13  0.894737  0.645533\n",
       "14  0.921053  0.757925\n",
       "15  0.921053  0.723343\n",
       "16  0.973684  0.962536\n",
       "17  1.000000  0.804035"
      ]
     },
     "execution_count": 27,
     "metadata": {},
     "output_type": "execute_result"
    }
   ],
   "source": [
    "#Min-max\n",
    "min_max_df = (df - df.min()) / (df.max() - df.min())\n",
    "min_max_df"
   ]
  },
  {
   "cell_type": "code",
   "execution_count": 33,
   "metadata": {
    "collapsed": false
   },
   "outputs": [
    {
     "data": {
      "text/html": [
       "<div>\n",
       "<table border=\"1\" class=\"dataframe\">\n",
       "  <thead>\n",
       "    <tr style=\"text-align: right;\">\n",
       "      <th></th>\n",
       "      <th>age</th>\n",
       "      <th>perc_fat</th>\n",
       "    </tr>\n",
       "  </thead>\n",
       "  <tbody>\n",
       "    <tr>\n",
       "      <th>0</th>\n",
       "      <td>0.23</td>\n",
       "      <td>0.095</td>\n",
       "    </tr>\n",
       "    <tr>\n",
       "      <th>1</th>\n",
       "      <td>0.23</td>\n",
       "      <td>0.265</td>\n",
       "    </tr>\n",
       "    <tr>\n",
       "      <th>2</th>\n",
       "      <td>0.27</td>\n",
       "      <td>0.078</td>\n",
       "    </tr>\n",
       "    <tr>\n",
       "      <th>3</th>\n",
       "      <td>0.27</td>\n",
       "      <td>0.178</td>\n",
       "    </tr>\n",
       "    <tr>\n",
       "      <th>4</th>\n",
       "      <td>0.39</td>\n",
       "      <td>0.314</td>\n",
       "    </tr>\n",
       "    <tr>\n",
       "      <th>5</th>\n",
       "      <td>0.41</td>\n",
       "      <td>0.259</td>\n",
       "    </tr>\n",
       "    <tr>\n",
       "      <th>6</th>\n",
       "      <td>0.47</td>\n",
       "      <td>0.274</td>\n",
       "    </tr>\n",
       "    <tr>\n",
       "      <th>7</th>\n",
       "      <td>0.49</td>\n",
       "      <td>0.272</td>\n",
       "    </tr>\n",
       "    <tr>\n",
       "      <th>8</th>\n",
       "      <td>0.50</td>\n",
       "      <td>0.312</td>\n",
       "    </tr>\n",
       "    <tr>\n",
       "      <th>9</th>\n",
       "      <td>0.52</td>\n",
       "      <td>0.346</td>\n",
       "    </tr>\n",
       "    <tr>\n",
       "      <th>10</th>\n",
       "      <td>0.54</td>\n",
       "      <td>0.425</td>\n",
       "    </tr>\n",
       "    <tr>\n",
       "      <th>11</th>\n",
       "      <td>0.54</td>\n",
       "      <td>0.288</td>\n",
       "    </tr>\n",
       "    <tr>\n",
       "      <th>12</th>\n",
       "      <td>0.56</td>\n",
       "      <td>0.334</td>\n",
       "    </tr>\n",
       "    <tr>\n",
       "      <th>13</th>\n",
       "      <td>0.57</td>\n",
       "      <td>0.302</td>\n",
       "    </tr>\n",
       "    <tr>\n",
       "      <th>14</th>\n",
       "      <td>0.58</td>\n",
       "      <td>0.341</td>\n",
       "    </tr>\n",
       "    <tr>\n",
       "      <th>15</th>\n",
       "      <td>0.58</td>\n",
       "      <td>0.329</td>\n",
       "    </tr>\n",
       "    <tr>\n",
       "      <th>16</th>\n",
       "      <td>0.60</td>\n",
       "      <td>0.412</td>\n",
       "    </tr>\n",
       "    <tr>\n",
       "      <th>17</th>\n",
       "      <td>0.61</td>\n",
       "      <td>0.357</td>\n",
       "    </tr>\n",
       "  </tbody>\n",
       "</table>\n",
       "</div>"
      ],
      "text/plain": [
       "     age  perc_fat\n",
       "0   0.23     0.095\n",
       "1   0.23     0.265\n",
       "2   0.27     0.078\n",
       "3   0.27     0.178\n",
       "4   0.39     0.314\n",
       "5   0.41     0.259\n",
       "6   0.47     0.274\n",
       "7   0.49     0.272\n",
       "8   0.50     0.312\n",
       "9   0.52     0.346\n",
       "10  0.54     0.425\n",
       "11  0.54     0.288\n",
       "12  0.56     0.334\n",
       "13  0.57     0.302\n",
       "14  0.58     0.341\n",
       "15  0.58     0.329\n",
       "16  0.60     0.412\n",
       "17  0.61     0.357"
      ]
     },
     "execution_count": 33,
     "metadata": {},
     "output_type": "execute_result"
    }
   ],
   "source": [
    "#Decimal normilization (abs(max())) = 61\n",
    "dec_norm_df = df / 100\n",
    "dec_norm_df"
   ]
  },
  {
   "cell_type": "markdown",
   "metadata": {},
   "source": [
    "##### i. Min-max normalization (use default target interval 0 to 1)\n",
    "This normilization technique transforms the raw data linearly and preserves the relationship of the raw data. The range for both age and perc_fat is (0, 1)\n",
    "\n",
    "##### ii. Z-score normalization (computed in 1-b)\n",
    "\n",
    "This normilization technique displays the raw data in terms of how many SDs it is above or below the mean. Here, for the z_age variable the range is (-1.77, 1.10) and for z_perc_fat we see a range of (-2.26, 1.48)\n",
    "\n",
    "##### iii. Normalization by decimal scaling\n",
    "\n",
    "This normilization technique transorms the data by moving the decimal point. The range for age with this normilization is (0.23, 0.61) and perc_fat is (0.078, 0.425)"
   ]
  },
  {
   "cell_type": "markdown",
   "metadata": {},
   "source": [
    "##### Problem 1-d\n",
    "\n",
    "From the scatter plot we can see a moderate relatioship betwen age and percent body fat. Since both of the varibales had more datapoints on the high end, the relationship is more clearly seen the greater the values are. There are one or two questionable data points that would need further exploration."
   ]
  },
  {
   "cell_type": "code",
   "execution_count": 34,
   "metadata": {
    "collapsed": false
   },
   "outputs": [
    {
     "data": {
      "text/plain": [
       "<matplotlib.axes._subplots.AxesSubplot at 0x219e64c8e80>"
      ]
     },
     "execution_count": 34,
     "metadata": {},
     "output_type": "execute_result"
    },
    {
     "data": {
      "image/png": "[encoded data removed]",
      "text/plain": [
       "<matplotlib.figure.Figure at 0x219e64c84a8>"
      ]
     },
     "metadata": {},
     "output_type": "display_data"
    }
   ],
   "source": [
    "df.plot.scatter('age', 'perc_fat')"
   ]
  },
  {
   "cell_type": "markdown",
   "metadata": {},
   "source": [
    "##### Problem 1-e\n",
    "\n",
    "From the correlation matrix and the covariance matrix below, we can see that age and percent body fat are positivley correlated since r-squared is positive and the covariance shows a positive increase."
   ]
  },
  {
   "cell_type": "code",
   "execution_count": 39,
   "metadata": {
    "collapsed": false
   },
   "outputs": [
    {
     "name": "stdout",
     "output_type": "stream",
     "text": [
      "correlation-matrix                age  perc_fat\n",
      "age       1.000000  0.817619\n",
      "perc_fat  0.817619  1.000000\n"
     ]
    }
   ],
   "source": [
    "#Correlation \n",
    "df.corr()"
   ]
  },
  {
   "cell_type": "code",
   "execution_count": 36,
   "metadata": {
    "collapsed": false
   },
   "outputs": [
    {
     "data": {
      "text/html": [
       "<div>\n",
       "<table border=\"1\" class=\"dataframe\">\n",
       "  <thead>\n",
       "    <tr style=\"text-align: right;\">\n",
       "      <th></th>\n",
       "      <th>age</th>\n",
       "      <th>perc_fat</th>\n",
       "    </tr>\n",
       "  </thead>\n",
       "  <tbody>\n",
       "    <tr>\n",
       "      <th>age</th>\n",
       "      <td>174.732026</td>\n",
       "      <td>100.019608</td>\n",
       "    </tr>\n",
       "    <tr>\n",
       "      <th>perc_fat</th>\n",
       "      <td>100.019608</td>\n",
       "      <td>85.643824</td>\n",
       "    </tr>\n",
       "  </tbody>\n",
       "</table>\n",
       "</div>"
      ],
      "text/plain": [
       "                 age    perc_fat\n",
       "age       174.732026  100.019608\n",
       "perc_fat  100.019608   85.643824"
      ]
     },
     "execution_count": 36,
     "metadata": {},
     "output_type": "execute_result"
    }
   ],
   "source": [
    "#Covariance\n",
    "df.cov()"
   ]
  },
  {
   "cell_type": "markdown",
   "metadata": {},
   "source": [
    "#### Problem 2 (10 points):\n",
    "\n",
    "This problem is an example of data preprocessing needed in a data mining process.\n",
    "Suppose a group of 12 sales price records has been sorted as follows:\n",
    "\n",
    "5, 10, 11, 13, 15, 35, 50, 55, 72, 92, 204, 215\n",
    "\n",
    "Partition them into bins by each of the following methods. Show which values are in which bins. Then\n",
    "smooth the data using the bins, and show the new set of smoothed values. Explain how each type of\n",
    "smoothing affect the data and the ways they are different.\n",
    "\n",
    "a. (5 points) equal-depth partitioning with 3 values per bin\n",
    "\n",
    "b. (5 points) equal-width partitioning with 3 bins "
   ]
  },
  {
   "cell_type": "markdown",
   "metadata": {},
   "source": [
    "The biggest difference between these two methods is how they assign values to bins. Equal-depth is simply partitioning the data into equal chunks with each chunck containing the same amount of data points, independent of any range. Equal-width is partitioning the data, but each point falls into a defined range of values (based on (max-min)/n, and has no set number of data points that can be assigned to each bin."
   ]
  },
  {
   "cell_type": "markdown",
   "metadata": {},
   "source": [
    "##### Problem 2-a\n",
    "\n",
    "**Equal-depth**\n",
    "\n",
    "Bin 1: 5, 10, 11   \n",
    "Bin 2: 13, 15, 35   \n",
    "Bin 3: 50, 55, 72   \n",
    "Bin 4: 92, 204, 215 "
   ]
  },
  {
   "cell_type": "markdown",
   "metadata": {},
   "source": [
    "##### Problem 2-b\n",
    "\n",
    "**Equal-width**\n",
    "\n",
    "max = 215; min = 5; n = 3   \n",
    "bin width = 70   \n",
    "\n",
    "Bin 1 (5-75): 5, 10, 11, 12, 15, 35, 50, 72   \n",
    "Bin 2 (75-145): 92   \n",
    "Bin 3 (145-215): 204, 215"
   ]
  },
  {
   "cell_type": "code",
   "execution_count": 55,
   "metadata": {
    "collapsed": false
   },
   "outputs": [
    {
     "data": {
      "text/plain": [
       "(array([ 3.,  3.,  3.,  3.]),\n",
       " array([  5,  13,  50,  92, 215]),\n",
       " <a list of 4 Patch objects>)"
      ]
     },
     "execution_count": 55,
     "metadata": {},
     "output_type": "execute_result"
    },
    {
     "data": {
      "image/png": "[encoded data removed]",
      "text/plain": [
       "<matplotlib.figure.Figure at 0x219e7a489b0>"
      ]
     },
     "metadata": {},
     "output_type": "display_data"
    }
   ],
   "source": [
    "#Equal-depth smoothing\n",
    "plt.hist([5, 10, 11, 13, 15, 35, 50, 55, 72, 92, 204, 215], bins = [5, 13, 50, 92, 215])"
   ]
  },
  {
   "cell_type": "code",
   "execution_count": 61,
   "metadata": {
    "collapsed": false
   },
   "outputs": [
    {
     "data": {
      "text/plain": [
       "(array([ 9.,  1.,  2.]),\n",
       " array([  5,  75, 145, 215]),\n",
       " <a list of 3 Patch objects>)"
      ]
     },
     "execution_count": 61,
     "metadata": {},
     "output_type": "execute_result"
    },
    {
     "data": {
      "image/png": "[encoded data removed]",
      "text/plain": [
       "<matplotlib.figure.Figure at 0x219e8cb8630>"
      ]
     },
     "metadata": {},
     "output_type": "display_data"
    }
   ],
   "source": [
    "#Equal-width smoothing\n",
    "plt.hist([5, 10, 11, 13, 15, 35, 50, 55, 72, 92, 204, 215], bins = [5, 75, 145, 215])"
   ]
  },
  {
   "cell_type": "markdown",
   "metadata": {},
   "source": [
    "#### Problem 3 (10 points):\n",
    "\n",
    "Answer the following questions about the data cleaning and integration process:\n",
    "\n",
    "a. (4 points) In real-world data, there are often rows that have missing values for some variables. Describe\n",
    "two methods for dealing with this problem.\n",
    "\n",
    "b. (2 points) If we have class labels for our data, how can we use them to help get better estimates when\n",
    "filling in missing values?\n",
    "\n",
    "c. (4 points) Describe two issues that may come up during data integration. "
   ]
  },
  {
   "cell_type": "markdown",
   "metadata": {},
   "source": [
    "##### Probelm 3-a\n",
    "\n",
    "Method 1: Remove any rows from the dataset that contain missing data in one or more column(s). This method works better with larger datasets.   \n",
    "\n",
    "Method 2: Fill in missing values with the mean. Depending on the data, it might be appropriate to apply the mean in chunks if the feature experienced changes over time that inherently moved the overall mean."
   ]
  },
  {
   "cell_type": "markdown",
   "metadata": {},
   "source": [
    "##### Problem 3-b\n",
    "\n",
    "A classification algorithm could be used to \"predict\" the values for missing data based on the known data from the classes of the same type."
   ]
  },
  {
   "cell_type": "markdown",
   "metadata": {},
   "source": [
    "##### Problem 3-c\n",
    "\n",
    "Issue 1: Simply put, bad data. It could be bad for a number of reasons such as human dependency (free form text, manual input, etc) or the data collection process contains errors or is unreliable.\n",
    "\n",
    "Issue 2: Redundant data can be an issue. Redundancy can resuly from having duplicate columns under different column names, or a columns that are derived from one or more columns in the same data set."
   ]
  },
  {
   "cell_type": "markdown",
   "metadata": {},
   "source": [
    "##### Bonus Problem (5 points):\n",
    "\n",
    "We discussed how a clustering of data can be used to smooth data, so let’s consider if it could be used for\n",
    "repairing missing data. We discussed how class labels can be used to improve the process of filling in missing values\n",
    "(and you wrote about it in 3b), and we discussed how a clustering result can be used similarly to class labels. Can we\n",
    "cluster data and use the clustering to fill in missing values? If so, how? If not, what problem would we encounter? "
   ]
  },
  {
   "cell_type": "markdown",
   "metadata": {},
   "source": [
    "Yes, we can use clustering to help fill in missing values. Assuming data could be clustered according to one or more elements, we could analyze the silarities among their elements and fill in the missing data according to something like the mean or the median of the known data in the cluster."
   ]
  }
 ],
 "metadata": {
  "anaconda-cloud": {},
  "kernelspec": {
   "display_name": "Python [default]",
   "language": "python",
   "name": "python3"
  },
  "language_info": {
   "codemirror_mode": {
    "name": "ipython",
    "version": 3
   },
   "file_extension": ".py",
   "mimetype": "text/x-python",
   "name": "python",
   "nbconvert_exporter": "python",
   "pygments_lexer": "ipython3",
   "version": "3.5.2"
  }
 },
 "nbformat": 4,
 "nbformat_minor": 1
}
